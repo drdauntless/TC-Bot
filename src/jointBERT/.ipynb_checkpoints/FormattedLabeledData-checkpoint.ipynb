{
 "cells": [
  {
   "cell_type": "code",
   "execution_count": 1,
   "metadata": {},
   "outputs": [],
   "source": [
    "import pandas as pd"
   ]
  },
  {
   "cell_type": "code",
   "execution_count": 5,
   "metadata": {},
   "outputs": [
    {
     "name": "stdout",
     "output_type": "stream",
     "text": [
      "https://docs.google.com/spreadsheets/d/1W9NXwkbNZImNyrRMwJUl0mwHb6UndEJ5q6QBHmoZY80/export?format=csv&sheet=P6%20S\n"
     ]
    }
   ],
   "source": [
    "sheet_names = [\"P1%20S\",\"P2%20S\",\"P3%20S\",\"P4%20S\",\"P5%20S\",\"P6%20S\",\"P7%20PRO\"]\n",
    "sheet_name = sheet_names[5]\n",
    "url = \"https://docs.google.com/spreadsheets/d/1W9NXwkbNZImNyrRMwJUl0mwHb6UndEJ5q6QBHmoZY80/export?format=csv&sheet={}\".format(sheet_name,width=len(sheet_name))\n",
    "print(url)\n",
    "test = pd.read_csv(url,index_col=0).convert_dtypes().reset_index()"
   ]
  },
  {
   "cell_type": "code",
   "execution_count": null,
   "metadata": {},
   "outputs": [],
   "source": []
  },
  {
   "cell_type": "code",
   "execution_count": null,
   "metadata": {},
   "outputs": [],
   "source": [
    "slot_cols = ['Unnamed: 33', 'Unnamed: 34', 'Unnamed: 35', 'Unnamed: 36',\n",
    "       'Unnamed: 37', 'Unnamed: 38', 'Unnamed: 39', 'Unnamed: 40',\n",
    "       'Unnamed: 41', 'Unnamed: 42', 'Unnamed: 43', 'Unnamed: 44',\n",
    "       'Unnamed: 45', 'Unnamed: 46', 'Unnamed: 47', 'Unnamed: 48',\n",
    "       'Unnamed: 49', 'Unnamed: 50', 'Unnamed: 51', 'Unnamed: 52',\n",
    "       'Unnamed: 53', 'Unnamed: 54', 'Unnamed: 55', 'Unnamed: 56',\n",
    "       'Unnamed: 57', 'Unnamed: 58', 'Unnamed: 59', 'Unnamed: 60',\n",
    "       'Unnamed: 61', 'Unnamed: 62', 'Unnamed: 63', 'Unnamed: 64',\n",
    "       'Unnamed: 65', 'Unnamed: 66', 'Unnamed: 67', 'Unnamed: 68',\n",
    "       'Unnamed: 69', 'Unnamed: 70', 'Unnamed: 71', 'Unnamed: 72',\n",
    "       'Unnamed: 73', 'Unnamed: 74', 'Unnamed: 75', 'Unnamed: 76',\n",
    "       'Unnamed: 77', 'Unnamed: 78', 'Unnamed: 79', 'Unnamed: 80',\n",
    "       'Unnamed: 81', 'Unnamed: 82', 'Unnamed: 83', 'Unnamed: 84',\n",
    "       'Unnamed: 85']\n",
    "for col in slot_cols:\n",
    "    if col in list(test.columns):\n",
    "        test[col] = test[col].astype(str)\n",
    "print(test[slot_cols])\n",
    "print(list(test.columns))"
   ]
  },
  {
   "cell_type": "code",
   "execution_count": 7,
   "metadata": {},
   "outputs": [
    {
     "data": {
      "text/plain": [
       "'for sheet_name in sheet_names:\\n    print(sheet_name,len(sheet_name))\\n    url = \"https://docs.google.com/spreadsheets/d/1W9NXwkbNZImNyrRMwJUl0mwHb6UndEJ5q6QBHmoZY80/gviz/tq?tqx=out:csv&sheet={}\".format(sheet_name,width=len(sheet_name))\\n    print(url)\\n    test = pd.read_csv(url,\\n                   index_col=0,\\n                  )\\n    print(test)'"
      ]
     },
     "execution_count": 7,
     "metadata": {},
     "output_type": "execute_result"
    }
   ],
   "source": [
    "'''for sheet_name in sheet_names:\n",
    "    print(sheet_name,len(sheet_name))\n",
    "    url = \"https://docs.google.com/spreadsheets/d/1W9NXwkbNZImNyrRMwJUl0mwHb6UndEJ5q6QBHmoZY80/export?format=csv&sheet={}\".format(sheet_name,width=len(sheet_name))\n",
    "    print(url)\n",
    "    test = pd.read_csv(url,index_col=0)\n",
    "    print(test)'''"
   ]
  },
  {
   "cell_type": "code",
   "execution_count": 9,
   "metadata": {},
   "outputs": [
    {
     "data": {
      "text/plain": [
       "0      \n",
       "We should probably start with the test cases ...\n",
       "1                              Yes, you should. Alright.\n",
       "2                                         So we gotta...\n",
       "3                                            So tests...\n",
       "4      Okay, so we need to add the tests for, if, um,...\n",
       "                             ...                        \n",
       "287                                                 <NA>\n",
       "288                                                 <NA>\n",
       "289                                                 <NA>\n",
       "290                                                 <NA>\n",
       "291                                                 <NA>\n",
       "Name: Dialogue Act, Length: 292, dtype: string"
      ]
     },
     "execution_count": 9,
     "metadata": {},
     "output_type": "execute_result"
    }
   ],
   "source": [
    "seq_in = test['Dialogue Act']\n",
    "seq_in"
   ]
  },
  {
   "cell_type": "code",
   "execution_count": 8,
   "metadata": {},
   "outputs": [
    {
     "ename": "KeyError",
     "evalue": "\"['Timestamp Start' 'Timestamp End' 'Time Elapsed' 'Speaker' 'Gender'\\n 'Driver' 'Dialogue Act' 'Dialogue Type' 'Delivery' 'Programming Acts'\\n 'Role' 'Tone' 'keyword' ' current_error' ' boolean' ' number'\\n ' inequality' ' categorical_feedback' ' text_add' ' text_remove'\\n ' recently_closed_file' ' userstory' ' objective' ' active_window'\\n ' active_filename' ' active_filename_method' ' line_number'\\n ' variable_name' ' context_filename' ' context_filename_method'\\n ' name_of_user' ' phase_of_software_lifecycle' ' driver'] not found in axis\"",
     "output_type": "error",
     "traceback": [
      "\u001b[0;31m---------------------------------------------------------------------------\u001b[0m",
      "\u001b[0;31mKeyError\u001b[0m                                  Traceback (most recent call last)",
      "\u001b[0;32m<ipython-input-8-22e0e2c2d44e>\u001b[0m in \u001b[0;36m<module>\u001b[0;34m\u001b[0m\n\u001b[0;32m----> 1\u001b[0;31m seq_out = test.drop(['Timestamp Start', 'Timestamp End', 'Time Elapsed', 'Speaker', 'Gender',\n\u001b[0m\u001b[1;32m      2\u001b[0m        \u001b[0;34m'Driver'\u001b[0m\u001b[0;34m,\u001b[0m \u001b[0;34m'Dialogue Act'\u001b[0m\u001b[0;34m,\u001b[0m \u001b[0;34m'Dialogue Type'\u001b[0m\u001b[0;34m,\u001b[0m \u001b[0;34m'Delivery'\u001b[0m\u001b[0;34m,\u001b[0m\u001b[0;34m\u001b[0m\u001b[0;34m\u001b[0m\u001b[0m\n\u001b[1;32m      3\u001b[0m        \u001b[0;34m'Programming Acts'\u001b[0m\u001b[0;34m,\u001b[0m \u001b[0;34m'Role'\u001b[0m\u001b[0;34m,\u001b[0m \u001b[0;34m'Tone'\u001b[0m\u001b[0;34m,\u001b[0m \u001b[0;34m'keyword'\u001b[0m\u001b[0;34m,\u001b[0m \u001b[0;34m' current_error'\u001b[0m\u001b[0;34m,\u001b[0m\u001b[0;34m\u001b[0m\u001b[0;34m\u001b[0m\u001b[0m\n\u001b[1;32m      4\u001b[0m        \u001b[0;34m' boolean'\u001b[0m\u001b[0;34m,\u001b[0m \u001b[0;34m' number'\u001b[0m\u001b[0;34m,\u001b[0m \u001b[0;34m' inequality'\u001b[0m\u001b[0;34m,\u001b[0m \u001b[0;34m' categorical_feedback'\u001b[0m\u001b[0;34m,\u001b[0m\u001b[0;34m\u001b[0m\u001b[0;34m\u001b[0m\u001b[0m\n\u001b[1;32m      5\u001b[0m        \u001b[0;34m' text_add'\u001b[0m\u001b[0;34m,\u001b[0m \u001b[0;34m' text_remove'\u001b[0m\u001b[0;34m,\u001b[0m \u001b[0;34m' recently_closed_file'\u001b[0m\u001b[0;34m,\u001b[0m \u001b[0;34m' userstory'\u001b[0m\u001b[0;34m,\u001b[0m\u001b[0;34m\u001b[0m\u001b[0;34m\u001b[0m\u001b[0m\n",
      "\u001b[0;32m~/opt/anaconda3/lib/python3.8/site-packages/pandas/core/frame.py\u001b[0m in \u001b[0;36mdrop\u001b[0;34m(self, labels, axis, index, columns, level, inplace, errors)\u001b[0m\n\u001b[1;32m   3988\u001b[0m                 \u001b[0mweight\u001b[0m  \u001b[0;36m1.0\u001b[0m     \u001b[0;36m0.8\u001b[0m\u001b[0;34m\u001b[0m\u001b[0;34m\u001b[0m\u001b[0m\n\u001b[1;32m   3989\u001b[0m         \"\"\"\n\u001b[0;32m-> 3990\u001b[0;31m         return super().drop(\n\u001b[0m\u001b[1;32m   3991\u001b[0m             \u001b[0mlabels\u001b[0m\u001b[0;34m=\u001b[0m\u001b[0mlabels\u001b[0m\u001b[0;34m,\u001b[0m\u001b[0;34m\u001b[0m\u001b[0;34m\u001b[0m\u001b[0m\n\u001b[1;32m   3992\u001b[0m             \u001b[0maxis\u001b[0m\u001b[0;34m=\u001b[0m\u001b[0maxis\u001b[0m\u001b[0;34m,\u001b[0m\u001b[0;34m\u001b[0m\u001b[0;34m\u001b[0m\u001b[0m\n",
      "\u001b[0;32m~/opt/anaconda3/lib/python3.8/site-packages/pandas/core/generic.py\u001b[0m in \u001b[0;36mdrop\u001b[0;34m(self, labels, axis, index, columns, level, inplace, errors)\u001b[0m\n\u001b[1;32m   3934\u001b[0m         \u001b[0;32mfor\u001b[0m \u001b[0maxis\u001b[0m\u001b[0;34m,\u001b[0m \u001b[0mlabels\u001b[0m \u001b[0;32min\u001b[0m \u001b[0maxes\u001b[0m\u001b[0;34m.\u001b[0m\u001b[0mitems\u001b[0m\u001b[0;34m(\u001b[0m\u001b[0;34m)\u001b[0m\u001b[0;34m:\u001b[0m\u001b[0;34m\u001b[0m\u001b[0;34m\u001b[0m\u001b[0m\n\u001b[1;32m   3935\u001b[0m             \u001b[0;32mif\u001b[0m \u001b[0mlabels\u001b[0m \u001b[0;32mis\u001b[0m \u001b[0;32mnot\u001b[0m \u001b[0;32mNone\u001b[0m\u001b[0;34m:\u001b[0m\u001b[0;34m\u001b[0m\u001b[0;34m\u001b[0m\u001b[0m\n\u001b[0;32m-> 3936\u001b[0;31m                 \u001b[0mobj\u001b[0m \u001b[0;34m=\u001b[0m \u001b[0mobj\u001b[0m\u001b[0;34m.\u001b[0m\u001b[0m_drop_axis\u001b[0m\u001b[0;34m(\u001b[0m\u001b[0mlabels\u001b[0m\u001b[0;34m,\u001b[0m \u001b[0maxis\u001b[0m\u001b[0;34m,\u001b[0m \u001b[0mlevel\u001b[0m\u001b[0;34m=\u001b[0m\u001b[0mlevel\u001b[0m\u001b[0;34m,\u001b[0m \u001b[0merrors\u001b[0m\u001b[0;34m=\u001b[0m\u001b[0merrors\u001b[0m\u001b[0;34m)\u001b[0m\u001b[0;34m\u001b[0m\u001b[0;34m\u001b[0m\u001b[0m\n\u001b[0m\u001b[1;32m   3937\u001b[0m \u001b[0;34m\u001b[0m\u001b[0m\n\u001b[1;32m   3938\u001b[0m         \u001b[0;32mif\u001b[0m \u001b[0minplace\u001b[0m\u001b[0;34m:\u001b[0m\u001b[0;34m\u001b[0m\u001b[0;34m\u001b[0m\u001b[0m\n",
      "\u001b[0;32m~/opt/anaconda3/lib/python3.8/site-packages/pandas/core/generic.py\u001b[0m in \u001b[0;36m_drop_axis\u001b[0;34m(self, labels, axis, level, errors)\u001b[0m\n\u001b[1;32m   3968\u001b[0m                 \u001b[0mnew_axis\u001b[0m \u001b[0;34m=\u001b[0m \u001b[0maxis\u001b[0m\u001b[0;34m.\u001b[0m\u001b[0mdrop\u001b[0m\u001b[0;34m(\u001b[0m\u001b[0mlabels\u001b[0m\u001b[0;34m,\u001b[0m \u001b[0mlevel\u001b[0m\u001b[0;34m=\u001b[0m\u001b[0mlevel\u001b[0m\u001b[0;34m,\u001b[0m \u001b[0merrors\u001b[0m\u001b[0;34m=\u001b[0m\u001b[0merrors\u001b[0m\u001b[0;34m)\u001b[0m\u001b[0;34m\u001b[0m\u001b[0;34m\u001b[0m\u001b[0m\n\u001b[1;32m   3969\u001b[0m             \u001b[0;32melse\u001b[0m\u001b[0;34m:\u001b[0m\u001b[0;34m\u001b[0m\u001b[0;34m\u001b[0m\u001b[0m\n\u001b[0;32m-> 3970\u001b[0;31m                 \u001b[0mnew_axis\u001b[0m \u001b[0;34m=\u001b[0m \u001b[0maxis\u001b[0m\u001b[0;34m.\u001b[0m\u001b[0mdrop\u001b[0m\u001b[0;34m(\u001b[0m\u001b[0mlabels\u001b[0m\u001b[0;34m,\u001b[0m \u001b[0merrors\u001b[0m\u001b[0;34m=\u001b[0m\u001b[0merrors\u001b[0m\u001b[0;34m)\u001b[0m\u001b[0;34m\u001b[0m\u001b[0;34m\u001b[0m\u001b[0m\n\u001b[0m\u001b[1;32m   3971\u001b[0m             \u001b[0mresult\u001b[0m \u001b[0;34m=\u001b[0m \u001b[0mself\u001b[0m\u001b[0;34m.\u001b[0m\u001b[0mreindex\u001b[0m\u001b[0;34m(\u001b[0m\u001b[0;34m**\u001b[0m\u001b[0;34m{\u001b[0m\u001b[0maxis_name\u001b[0m\u001b[0;34m:\u001b[0m \u001b[0mnew_axis\u001b[0m\u001b[0;34m}\u001b[0m\u001b[0;34m)\u001b[0m\u001b[0;34m\u001b[0m\u001b[0;34m\u001b[0m\u001b[0m\n\u001b[1;32m   3972\u001b[0m \u001b[0;34m\u001b[0m\u001b[0m\n",
      "\u001b[0;32m~/opt/anaconda3/lib/python3.8/site-packages/pandas/core/indexes/base.py\u001b[0m in \u001b[0;36mdrop\u001b[0;34m(self, labels, errors)\u001b[0m\n\u001b[1;32m   5016\u001b[0m         \u001b[0;32mif\u001b[0m \u001b[0mmask\u001b[0m\u001b[0;34m.\u001b[0m\u001b[0many\u001b[0m\u001b[0;34m(\u001b[0m\u001b[0;34m)\u001b[0m\u001b[0;34m:\u001b[0m\u001b[0;34m\u001b[0m\u001b[0;34m\u001b[0m\u001b[0m\n\u001b[1;32m   5017\u001b[0m             \u001b[0;32mif\u001b[0m \u001b[0merrors\u001b[0m \u001b[0;34m!=\u001b[0m \u001b[0;34m\"ignore\"\u001b[0m\u001b[0;34m:\u001b[0m\u001b[0;34m\u001b[0m\u001b[0;34m\u001b[0m\u001b[0m\n\u001b[0;32m-> 5018\u001b[0;31m                 \u001b[0;32mraise\u001b[0m \u001b[0mKeyError\u001b[0m\u001b[0;34m(\u001b[0m\u001b[0;34mf\"{labels[mask]} not found in axis\"\u001b[0m\u001b[0;34m)\u001b[0m\u001b[0;34m\u001b[0m\u001b[0;34m\u001b[0m\u001b[0m\n\u001b[0m\u001b[1;32m   5019\u001b[0m             \u001b[0mindexer\u001b[0m \u001b[0;34m=\u001b[0m \u001b[0mindexer\u001b[0m\u001b[0;34m[\u001b[0m\u001b[0;34m~\u001b[0m\u001b[0mmask\u001b[0m\u001b[0;34m]\u001b[0m\u001b[0;34m\u001b[0m\u001b[0;34m\u001b[0m\u001b[0m\n\u001b[1;32m   5020\u001b[0m         \u001b[0;32mreturn\u001b[0m \u001b[0mself\u001b[0m\u001b[0;34m.\u001b[0m\u001b[0mdelete\u001b[0m\u001b[0;34m(\u001b[0m\u001b[0mindexer\u001b[0m\u001b[0;34m)\u001b[0m\u001b[0;34m\u001b[0m\u001b[0;34m\u001b[0m\u001b[0m\n",
      "\u001b[0;31mKeyError\u001b[0m: \"['Timestamp Start' 'Timestamp End' 'Time Elapsed' 'Speaker' 'Gender'\\n 'Driver' 'Dialogue Act' 'Dialogue Type' 'Delivery' 'Programming Acts'\\n 'Role' 'Tone' 'keyword' ' current_error' ' boolean' ' number'\\n ' inequality' ' categorical_feedback' ' text_add' ' text_remove'\\n ' recently_closed_file' ' userstory' ' objective' ' active_window'\\n ' active_filename' ' active_filename_method' ' line_number'\\n ' variable_name' ' context_filename' ' context_filename_method'\\n ' name_of_user' ' phase_of_software_lifecycle' ' driver'] not found in axis\""
     ]
    }
   ],
   "source": [
    "seq_out = test.drop(['Timestamp Start', 'Timestamp End', 'Time Elapsed', 'Speaker', 'Gender',\n",
    "       'Driver', 'Dialogue Act', 'Dialogue Type', 'Delivery',\n",
    "       'Programming Acts', 'Role', 'Tone', 'keyword', ' current_error',\n",
    "       ' boolean', ' number', ' inequality', ' categorical_feedback',\n",
    "       ' text_add', ' text_remove', ' recently_closed_file', ' userstory',\n",
    "       ' objective', ' active_window', ' active_filename',\n",
    "       ' active_filename_method', ' line_number', ' variable_name',\n",
    "       ' context_filename', ' context_filename_method', ' name_of_user',\n",
    "       ' phase_of_software_lifecycle', ' driver'],axis=1)\n",
    "seq_out.columns"
   ]
  },
  {
   "cell_type": "code",
   "execution_count": 25,
   "metadata": {},
   "outputs": [],
   "source": [
    "seq_out.to_csv(path_or_buf='./seq.out',sep=' ', index=False, header=False)"
   ]
  }
 ],
 "metadata": {
  "kernelspec": {
   "display_name": "Python 3",
   "language": "python",
   "name": "python3"
  },
  "language_info": {
   "codemirror_mode": {
    "name": "ipython",
    "version": 3
   },
   "file_extension": ".py",
   "mimetype": "text/x-python",
   "name": "python",
   "nbconvert_exporter": "python",
   "pygments_lexer": "ipython3",
   "version": "3.8.3"
  }
 },
 "nbformat": 4,
 "nbformat_minor": 4
}
